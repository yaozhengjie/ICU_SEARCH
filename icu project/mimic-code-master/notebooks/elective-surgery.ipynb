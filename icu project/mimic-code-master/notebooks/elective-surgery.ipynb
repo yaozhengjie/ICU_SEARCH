{
 "cells": [
  {
   "cell_type": "markdown",
   "metadata": {},
   "source": [
    "# Elective surgery notebook\n",
    "\n",
    "This notebook examines three definitions of surgery:\n",
    "\n",
    "1. CPT codes\n",
    "2. ICD-9 procedure codes\n",
    "3. Service type\n",
    "\n",
    "The aim of this is to facilitate defining elective surgery."
   ]
  },
  {
   "cell_type": "code",
   "execution_count": 1,
   "metadata": {
    "collapsed": true
   },
   "outputs": [],
   "source": [
    "# Import libraries\n",
    "import numpy as np\n",
    "import pandas as pd\n",
    "import matplotlib.pyplot as plt\n",
    "import psycopg2\n",
    "\n",
    "# used to calculate AUROC/accuracy\n",
    "from sklearn import metrics\n",
    "\n",
    "\n",
    "%matplotlib inline"
   ]
  },
  {
   "cell_type": "code",
   "execution_count": 2,
   "metadata": {
    "collapsed": false
   },
   "outputs": [],
   "source": [
    "# create a database connection\n",
    "sqluser = 'postgres'\n",
    "dbname = 'mimic'\n",
    "schema_name = 'mimiciii'\n",
    "\n",
    "# Connect to local postgres version of mimic\n",
    "con = psycopg2.connect(dbname=dbname, user=sqluser)\n",
    "cur = con.cursor()"
   ]
  },
  {
   "cell_type": "markdown",
   "metadata": {},
   "source": [
    "# Service type\n",
    "\n",
    "First we examine if an ICU stay ever occurs *before* the first service."
   ]
  },
  {
   "cell_type": "code",
   "execution_count": 3,
   "metadata": {
    "collapsed": false,
    "scrolled": true
   },
   "outputs": [
    {
     "data": {
      "text/html": [
       "<div>\n",
       "<table border=\"1\" class=\"dataframe\">\n",
       "  <thead>\n",
       "    <tr style=\"text-align: right;\">\n",
       "      <th></th>\n",
       "      <th>icustay_id</th>\n",
       "      <th>hadm_id</th>\n",
       "      <th>admittime</th>\n",
       "      <th>intime</th>\n",
       "      <th>firstservice</th>\n",
       "      <th>deltaadmit</th>\n",
       "      <th>deltain</th>\n",
       "    </tr>\n",
       "  </thead>\n",
       "  <tbody>\n",
       "    <tr>\n",
       "      <th>0</th>\n",
       "      <td>209779</td>\n",
       "      <td>147891</td>\n",
       "      <td>2118-10-24 23:34:00</td>\n",
       "      <td>2118-10-25 11:38:16</td>\n",
       "      <td>2118-10-31 07:29:24</td>\n",
       "      <td>6 days 07:55:24</td>\n",
       "      <td>5 days 19:51:08</td>\n",
       "    </tr>\n",
       "    <tr>\n",
       "      <th>1</th>\n",
       "      <td>212553</td>\n",
       "      <td>161640</td>\n",
       "      <td>2147-07-25 15:52:00</td>\n",
       "      <td>2147-07-26 17:02:42</td>\n",
       "      <td>2147-07-27 11:09:39</td>\n",
       "      <td>1 days 19:17:39</td>\n",
       "      <td>0 days 18:06:57</td>\n",
       "    </tr>\n",
       "    <tr>\n",
       "      <th>2</th>\n",
       "      <td>225953</td>\n",
       "      <td>140615</td>\n",
       "      <td>2150-07-07 16:13:00</td>\n",
       "      <td>2150-07-09 11:43:25</td>\n",
       "      <td>2150-07-14 10:31:11</td>\n",
       "      <td>6 days 18:18:11</td>\n",
       "      <td>4 days 22:47:46</td>\n",
       "    </tr>\n",
       "    <tr>\n",
       "      <th>3</th>\n",
       "      <td>247562</td>\n",
       "      <td>168715</td>\n",
       "      <td>2106-10-08 20:55:00</td>\n",
       "      <td>2106-10-14 19:44:19</td>\n",
       "      <td>2106-10-16 04:37:30</td>\n",
       "      <td>7 days 07:42:30</td>\n",
       "      <td>1 days 08:53:11</td>\n",
       "    </tr>\n",
       "    <tr>\n",
       "      <th>4</th>\n",
       "      <td>284459</td>\n",
       "      <td>102005</td>\n",
       "      <td>2177-03-29 00:49:00</td>\n",
       "      <td>2177-04-04 05:49:00</td>\n",
       "      <td>2177-04-10 06:47:00</td>\n",
       "      <td>12 days 05:58:00</td>\n",
       "      <td>6 days 00:58:00</td>\n",
       "    </tr>\n",
       "  </tbody>\n",
       "</table>\n",
       "</div>"
      ],
      "text/plain": [
       "   icustay_id  hadm_id           admittime              intime  \\\n",
       "0      209779   147891 2118-10-24 23:34:00 2118-10-25 11:38:16   \n",
       "1      212553   161640 2147-07-25 15:52:00 2147-07-26 17:02:42   \n",
       "2      225953   140615 2150-07-07 16:13:00 2150-07-09 11:43:25   \n",
       "3      247562   168715 2106-10-08 20:55:00 2106-10-14 19:44:19   \n",
       "4      284459   102005 2177-03-29 00:49:00 2177-04-04 05:49:00   \n",
       "\n",
       "         firstservice       deltaadmit         deltain  \n",
       "0 2118-10-31 07:29:24  6 days 07:55:24 5 days 19:51:08  \n",
       "1 2147-07-27 11:09:39  1 days 19:17:39 0 days 18:06:57  \n",
       "2 2150-07-14 10:31:11  6 days 18:18:11 4 days 22:47:46  \n",
       "3 2106-10-16 04:37:30  7 days 07:42:30 1 days 08:53:11  \n",
       "4 2177-04-10 06:47:00 12 days 05:58:00 6 days 00:58:00  "
      ]
     },
     "execution_count": 3,
     "metadata": {},
     "output_type": "execute_result"
    }
   ],
   "source": [
    "cur.execute('SET search_path to ' + schema_name)\n",
    "query = \\\n",
    "\"\"\"\n",
    "select ie.icustay_id, ie.hadm_id\n",
    "    , adm.admittime\n",
    "    , ie.intime\n",
    "    , min(transfertime) as FirstService\n",
    "    , min(transfertime) - adm.admittime as DeltaAdmit\n",
    "    , min(transfertime) - ie.intime as DeltaIn\n",
    "from icustays ie \n",
    "inner join admissions adm\n",
    "    on ie.hadm_id = adm.hadm_id\n",
    "left join services se \n",
    "    on ie.hadm_id = se.hadm_id\n",
    "group by ie.icustay_id, ie.hadm_id, ie.intime, adm.admittime\n",
    "having (min(transfertime)) > intime;\n",
    "\"\"\"\n",
    "\n",
    "data = pd.read_sql_query(query,con)\n",
    "data"
   ]
  },
  {
   "cell_type": "markdown",
   "metadata": {},
   "source": [
    "Looks like we have 5 cases where the first service occurs between 1-6 days after the first ICU admission."
   ]
  },
  {
   "cell_type": "code",
   "execution_count": 4,
   "metadata": {
    "collapsed": false
   },
   "outputs": [
    {
     "data": {
      "text/html": [
       "<div>\n",
       "<table border=\"1\" class=\"dataframe\">\n",
       "  <thead>\n",
       "    <tr style=\"text-align: right;\">\n",
       "      <th></th>\n",
       "      <th>0</th>\n",
       "      <th>1</th>\n",
       "      <th>2</th>\n",
       "      <th>3</th>\n",
       "      <th>4</th>\n",
       "    </tr>\n",
       "  </thead>\n",
       "  <tbody>\n",
       "    <tr>\n",
       "      <th>subject_id</th>\n",
       "      <td>29052</td>\n",
       "      <td>31189</td>\n",
       "      <td>86645</td>\n",
       "      <td>26438</td>\n",
       "      <td>13786</td>\n",
       "    </tr>\n",
       "    <tr>\n",
       "      <th>hadm_id</th>\n",
       "      <td>185131</td>\n",
       "      <td>144019</td>\n",
       "      <td>164444</td>\n",
       "      <td>187342</td>\n",
       "      <td>190267</td>\n",
       "    </tr>\n",
       "    <tr>\n",
       "      <th>icustay_id</th>\n",
       "      <td>231712</td>\n",
       "      <td>286281</td>\n",
       "      <td>234312</td>\n",
       "      <td>286085</td>\n",
       "      <td>223101</td>\n",
       "    </tr>\n",
       "    <tr>\n",
       "      <th>admission_type</th>\n",
       "      <td>EMERGENCY</td>\n",
       "      <td>URGENT</td>\n",
       "      <td>EMERGENCY</td>\n",
       "      <td>NEWBORN</td>\n",
       "      <td>NEWBORN</td>\n",
       "    </tr>\n",
       "    <tr>\n",
       "      <th>surgical_cpt</th>\n",
       "      <td>0</td>\n",
       "      <td>0</td>\n",
       "      <td>1</td>\n",
       "      <td>NaN</td>\n",
       "      <td>NaN</td>\n",
       "    </tr>\n",
       "    <tr>\n",
       "      <th>surgical_icd</th>\n",
       "      <td>0</td>\n",
       "      <td>1</td>\n",
       "      <td>1</td>\n",
       "      <td>1</td>\n",
       "      <td>1</td>\n",
       "    </tr>\n",
       "    <tr>\n",
       "      <th>surgical_service</th>\n",
       "      <td>0</td>\n",
       "      <td>1</td>\n",
       "      <td>1</td>\n",
       "      <td>0</td>\n",
       "      <td>0</td>\n",
       "    </tr>\n",
       "  </tbody>\n",
       "</table>\n",
       "</div>"
      ],
      "text/plain": [
       "                          0       1          2        3        4\n",
       "subject_id            29052   31189      86645    26438    13786\n",
       "hadm_id              185131  144019     164444   187342   190267\n",
       "icustay_id           231712  286281     234312   286085   223101\n",
       "admission_type    EMERGENCY  URGENT  EMERGENCY  NEWBORN  NEWBORN\n",
       "surgical_cpt              0       0          1      NaN      NaN\n",
       "surgical_icd              0       1          1        1        1\n",
       "surgical_service          0       1          1        0        0"
      ]
     },
     "execution_count": 4,
     "metadata": {},
     "output_type": "execute_result"
    }
   ],
   "source": [
    "# extract surgery definitions using the three methods\n",
    "cur.execute('SET search_path to ' + schema_name)\n",
    "query = \\\n",
    "\"\"\"\n",
    "WITH serv as\n",
    "(\n",
    "  -- note, 80% of patients only ever have one service\n",
    "  -- also note, it is possible a patient's trajectory is like this:\n",
    "  --  1. elective admission\n",
    "  --  2. medical service\n",
    "  --  3. ICU admission\n",
    "  --  4. change to surgical service\n",
    "  -- we do *not* treat this as an elective surgery\n",
    "\n",
    "  select ie.icustay_id\n",
    "    , se.curr_service\n",
    "    , case when lower(curr_service) like '%surg%' then 1 else 0 end as surgical\n",
    "    , ROW_NUMBER() over\n",
    "    (\n",
    "      PARTITION BY ICUSTAY_ID\n",
    "      ORDER BY TRANSFERTIME\n",
    "    ) as serviceOrder\n",
    "  from icustays ie\n",
    "  left join services se\n",
    "    on ie.hadm_id = se.hadm_id\n",
    ")\n",
    ", cpt as\n",
    "(\n",
    "  select cpt.hadm_id\n",
    "    , max(case when surgeryflag = 2 then 1 else 0 end) as surgical\n",
    "  from cptevents cpt\n",
    "  left join surgeryflag_cpt cptflg\n",
    "    on cpt.cpt_number between cptflg.cptstart and cptflg.cptstop\n",
    "  group by cpt.hadm_id\n",
    ")\n",
    ", icd as\n",
    "(\n",
    "  select icd.hadm_id\n",
    "    , max(case when surgeryflag = 2 then 1 else 0 end) as surgical\n",
    "  from procedures_icd icd\n",
    "  left join surgeryflag_icd9 flg\n",
    "    on icd.icd9_code = flg.icd9_code\n",
    "  group by icd.hadm_id\n",
    ")\n",
    "select\n",
    "  ie.subject_id, ie.hadm_id, ie.icustay_id\n",
    "\n",
    "  , adm.ADMISSION_TYPE\n",
    "\n",
    "  , cpt.surgical as surgical_cpt\n",
    "  , icd.surgical as surgical_icd\n",
    "  , serv.surgical as surgical_service\n",
    "from icustays ie\n",
    "-- it's useful to get admission type\n",
    "inner join admissions adm\n",
    "  on ie.hadm_id = adm.hadm_id\n",
    "-- get CPT codes associated with surgery\n",
    "left join cpt\n",
    "  on ie.hadm_id = cpt.hadm_id\n",
    "\n",
    "-- get ICD codes associated with surgery\n",
    "left join icd\n",
    "  on ie.hadm_id = icd.hadm_id\n",
    "\n",
    "-- get first service\n",
    "left join serv\n",
    "  on ie.icustay_id = serv.icustay_id and serv.serviceOrder = 1\n",
    "\"\"\" \n",
    "\n",
    "\n",
    "data = pd.read_sql_query(query,con)\n",
    "data.head().T"
   ]
  },
  {
   "cell_type": "code",
   "execution_count": 5,
   "metadata": {
    "collapsed": true
   },
   "outputs": [],
   "source": [
    "cur.close()\n",
    "con.close()"
   ]
  },
  {
   "cell_type": "code",
   "execution_count": 6,
   "metadata": {
    "collapsed": false
   },
   "outputs": [
    {
     "data": {
      "text/plain": [
       "(61532, 7)"
      ]
     },
     "execution_count": 6,
     "metadata": {},
     "output_type": "execute_result"
    }
   ],
   "source": [
    "data.shape"
   ]
  },
  {
   "cell_type": "code",
   "execution_count": 7,
   "metadata": {
    "collapsed": false
   },
   "outputs": [
    {
     "name": "stdout",
     "output_type": "stream",
     "text": [
      "% surgical status: 21.43% - CPT.\n",
      "% surgical status: 52.58% - ICD.\n",
      "% surgical status: 24.64% - SERVICE.\n"
     ]
    }
   ],
   "source": [
    "print('% surgical status: {:2.2f}% - CPT.').format(100*data.surgical_cpt.mean())\n",
    "print('% surgical status: {:2.2f}% - ICD.').format(100*data.surgical_icd.mean())\n",
    "print('% surgical status: {:2.2f}% - SERVICE.').format(100*data.surgical_service.mean())"
   ]
  }
 ],
 "metadata": {
  "kernelspec": {
   "display_name": "Python 2",
   "language": "python",
   "name": "python2"
  },
  "language_info": {
   "codemirror_mode": {
    "name": "ipython",
    "version": 2
   },
   "file_extension": ".py",
   "mimetype": "text/x-python",
   "name": "python",
   "nbconvert_exporter": "python",
   "pygments_lexer": "ipython2",
   "version": "2.7.9"
  }
 },
 "nbformat": 4,
 "nbformat_minor": 0
}
